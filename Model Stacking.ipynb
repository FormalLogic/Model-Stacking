{
 "cells": [
  {
   "cell_type": "markdown",
   "metadata": {},
   "source": [
    "# Model stacking\n",
    "\n",
    "This notebook will show how modelstacking can be implemented in scikit learn. The notebook will specifically focus on\n",
    "multiclass data\n",
    "\n",
    "## Exploring the data\n",
    "\n",
    "- Checking out the samount of samples in each class\n",
    "- Transforming the high dimensional data onto 2D space (with t-sne) for viasualization purposes."
   ]
  },
  {
   "cell_type": "code",
   "execution_count": 1,
   "metadata": {},
   "outputs": [
    {
     "name": "stdout",
     "output_type": "stream",
     "text": [
      "Amount of samples in each class: Counter({'BC': 123, 'LU': 56, 'KI': 50})\n",
      "The shape of the data is: (229, 598)\n"
     ]
    },
    {
     "data": {
      "image/png": "[encoded data removed]",
      "text/plain": [
       "<Figure size 576x432 with 1 Axes>"
      ]
     },
     "metadata": {
      "needs_background": "light"
     },
     "output_type": "display_data"
    }
   ],
   "source": [
    "import numpy as np\n",
    "import scipy\n",
    "from matplotlib import pyplot as plt\n",
    "%matplotlib inline\n",
    "from sklearn.manifold import TSNE\n",
    "\n",
    "import warnings\n",
    "warnings.filterwarnings(\"ignore\")\n",
    "\n",
    "############## Loading the data ############\n",
    "npz = np.load(\"Data.npz\")\n",
    "#print(npz.files)\n",
    "X = npz['X']\n",
    "y = npz['y']\n",
    "npz.close()\n",
    "\n",
    "\n",
    "############## Checking the amount of samples in each class #############\n",
    "from collections import Counter\n",
    "print('Amount of samples in each class: {0}'.format(Counter(y)))\n",
    "print('The shape of the data is: {0}'.format(X.shape))\n",
    "\n",
    "\n",
    "############# Transforming the data onto 2 dimensions with t-sne  ###########\n",
    "from sklearn.manifold import TSNE\n",
    "#X = np.array([[0, 0, 0], [0, 1, 1], [1, 0, 1], [1, 1, 1]])\n",
    "X_embedded = TSNE(n_components=2).fit_transform(X)\n",
    "\n",
    "\n",
    "#### Plot the data\n",
    "plt.figure(figsize=((8,6)))\n",
    "plt.scatter(X_embedded[:,0], X_embedded[:,1], c=list(map(lambda x: 'b' if x=='BC' else 'g' if x=='KI' else 'r' ,y)))\n",
    "plt.show()"
   ]
  },
  {
   "cell_type": "markdown",
   "metadata": {},
   "source": [
    "### Creating a class for Model stacking\n",
    "\n",
    "The class will take a parameter (*Base_Classifiers*) which represents the base classifiers. The metaclassifier will use  majority voting with computed *weights* for each base classifier. The weights will be computed by using non negative  least squares. <br/>\n",
    "\n",
    "Let $m$ be the number of base classifiers and $n$ number of samples. $f^{-j}_i(x) \\in R^K$ for $i=1,...,m$ and $j= 1,...,n$ be the prediction vector of base classifier $i$ for $\\textbf{x}$ built on the whole dataset excluding observation $j$. Each prediction will be remapped into a numeric vector of size K (i.e The class 'BC' will be remapped to [1,0,0]). This is done so the problem can be reformulated into nonnegative least squares which will compute the *weight w* vector. This *weight w* vector will show how much each base classifier contributes in the metaclassifier for the final prediction. <br/>\n",
    "\n",
    "\\begin{equation}\n",
    "\\hat{w} = arg \\min_{\\textbf{w}} = || B\\textbf{x} - \\textbf{y}||^{2}_{2} \\quad \\text{subject to } \\textbf{w} \\geq 0, \\quad w_1 +... + w_m = 1 \\\\\n",
    "\\end{equation}\n",
    "\n",
    "\\begin{equation}\n",
    "y =\\begin{bmatrix}\n",
    " \\textbf{y}_1\\\\ \n",
    " \\textbf{y}_2\\\\ \n",
    "\\vdots\\\\ \n",
    " \\textbf{y}_n\n",
    "\\end{bmatrix} \\in R^{Kn \\times1}, \n",
    "\\quad B = \\begin{bmatrix}\n",
    "f^{-1}_1(x_1) & ... & f^{-1}_m(x_1) \\\\ \n",
    "f^{-2}_1(x_2) & ... & f^{-2}_m(x_2) \\\\ \n",
    " \\vdots &  &  \\vdots \\\\ \n",
    "f^{-n}_1(x_n) & ... & f^{-n}_m(x_n) \\\\ \n",
    "\\end{bmatrix} \\in R^{Kn \\times m}\n",
    "\\end{equation}\n",
    "\n",
    "Solving for the *weights w* can be done with quadratic programming [1]\n",
    "\n",
    "\\begin{equation}\n",
    "arg \\min_{w} \\bigg(\\frac{1}{2} \\textbf{w}^TP \\textbf{w} + q^T\\textbf{w}\\bigg) \\quad \\text{subject to } \\textbf{w} \\geq 0\n",
    "\\end{equation}\n",
    "\n",
    "Where\n",
    "\n",
    "\\begin{equation}\n",
    "P = B^TB, \\quad q = -B^T\\textbf{y}\n",
    "\\end{equation}\n",
    "\n",
    "Matrix **P** is positive semi-definite making the problem convex (The solution will be the global minimum)"
   ]
  },
  {
   "cell_type": "code",
   "execution_count": 2,
   "metadata": {
    "scrolled": false
   },
   "outputs": [],
   "source": [
    "import numpy as np\n",
    "import time\n",
    "\n",
    "### From sci kit learn\n",
    "from sklearn import datasets\n",
    "from sklearn import model_selection\n",
    "from sklearn.ensemble import RandomForestClassifier, VotingClassifier\n",
    "from sklearn.linear_model import LogisticRegression\n",
    "from sklearn.naive_bayes import GaussianNB\n",
    "from sklearn.neighbors import KNeighborsClassifier\n",
    "from sklearn.discriminant_analysis import LinearDiscriminantAnalysis, QuadraticDiscriminantAnalysis\n",
    "from sklearn.base import BaseEstimator\n",
    "\n",
    "##\n",
    "from cvxopt import matrix, solvers\n",
    "\n",
    "\n",
    "## Set random seed (to get deterministic results)                    \n",
    "np.random.seed(2019)\n",
    "Random_state = 2019\n",
    "\n",
    "\n",
    " \n",
    "#####  The class that implements model stacking with non-negative least squares                    \n",
    "class ModelStacking(BaseEstimator):\n",
    "    \n",
    "    def __init__(self, Base_Classifiers):\n",
    "        self.baseModels = Base_Classifiers\n",
    "        self.metaClassifier = 'This class attribute will be used later to store a VotingClassifier with computed weights'\n",
    "     \n",
    "    def fit(self, X, y):\n",
    "        \n",
    "        ######## Encode the class labels into numeric arrays. I.e 'BC' = [1,0,0]\n",
    "        ########This is done to formulate the constrained linear regression problem\n",
    "        y_encoded = np.array([list(map(lambda x: np.array([1, 0, 0]) if x=='BC' else np.array([0, 1, 0]) if x=='KI' \n",
    "                              else np.array([0, 0, 1]) ,y))]).flatten()\n",
    "        y_encoded = np.array([y_encoded]).T\n",
    "        \n",
    "        \n",
    "        \n",
    "        #The following nested for loop will compute matrix B used in the constrined least squares\n",
    "        predictionsForAllBaseClf = []\n",
    "        for name,baseClf in self.baseModels:\n",
    "            predictions_for_a_baseClf = []\n",
    "            for i in range(len(X)):  # For each sample, train each base classifier (excluding the current sample i) and predict on sample i \n",
    "                baseClf.fit(np.delete(X, i, 0),np.delete(y, i, 0))\n",
    "        \n",
    "                # The following if branches will convert each prediction from each base classifier into a sequence so it fits the QP optimization problem. \n",
    "                #A sequence predicted 1, 0, 0 means that the class 'BC'  is predicted from the base classifier\n",
    "        \n",
    "                prediction = baseClf.predict(X[i].reshape(1,-1))[0]\n",
    "                if 'BC'== prediction:\n",
    "                    predictions_for_a_baseClf.extend([1,0,0])\n",
    "                \n",
    "                elif 'KI'== prediction:\n",
    "                    predictions_for_a_baseClf.extend([0,1,0])\n",
    "                \n",
    "                else:\n",
    "                     predictions_for_a_baseClf.extend([0,0,1])\n",
    "\n",
    "            predictionsForAllBaseClf.append(predictions_for_a_baseClf)\n",
    "                   \n",
    "\n",
    "        B = np.array(predictionsForAllBaseClf)\n",
    "        B = B.T\n",
    "        \n",
    "        #Check if np.dot(B.T,B) is positive-semidefinite. In theory this should always be the case \n",
    "        #print(np.all(np.linalg.eigvals(np.dot(B.T,B)) > 0))  \n",
    "        \n",
    "        \n",
    "        ####### The following code will use quadratic programming to solve for the weights\n",
    "        P = matrix(np.dot(B.T,B).astype(float))\n",
    "        q = matrix(-np.dot(B.T,y_encoded).astype(float))\n",
    "        G = matrix(-np.identity(np.size(B,1)).astype(float))\n",
    "        h = matrix(np.zeros(np.size(B,1)).astype(float))\n",
    "        A = matrix(np.ones((1,np.size(B,1))).astype(float))\n",
    "        b = matrix(1.0)\n",
    "        sol=solvers.qp(P, q, G, h, A, b)\n",
    "        print('The estimated weights are \\n {0} First element represents baseclf 1, and so on \\n '.format(sol['x']))\n",
    "        \n",
    "        #### Train the meta classifier using the estimated weights\n",
    "        self.metaClassifier = VotingClassifier(estimators=list(Baseclfs), voting='hard', weights=list(sol['x']))\n",
    "        self.metaClassifier.fit(X,y)\n",
    "        \n",
    "    def predict(self, X):\n",
    "        return self.metaClassifier.predict(X)\n",
    "\n"
   ]
  },
  {
   "cell_type": "markdown",
   "metadata": {},
   "source": [
    "## Base classifiers\n",
    "\n",
    "This section will test the base classifiers to get a feel how well they work on their own. A KNN classifier with $k=80$ was purposefully chosen to get a baseclassifier with bad performance (Samples belonging to 'KI' and 'LU' have only around 50 samples each). "
   ]
  },
  {
   "cell_type": "code",
   "execution_count": 3,
   "metadata": {},
   "outputs": [
    {
     "name": "stdout",
     "output_type": "stream",
     "text": [
      "3-folded cross validation\n",
      "Accuracy: 0.99 (+/- 0.01)  of base classifier KNN where k = 1\n",
      "Accuracy: 0.99 (+/- 0.01)  of base classifier RF\n",
      "Accuracy: 0.98 (+/- 0.02)  of base classifier LDA\n",
      "Accuracy: 0.79 (+/- 0.06)  of base classifier NB\n",
      "Accuracy: 0.57 (+/- 0.11)  of base classifier QDA\n",
      "Accuracy: 0.50 (+/- 0.00)  of base classifier KNN where k= 80\n"
     ]
    }
   ],
   "source": [
    "Baseclfs = (('KNN where k = 1',KNeighborsClassifier(n_neighbors=1)),\n",
    "      ('RF' ,RandomForestClassifier(random_state = 1)),\n",
    "      ('LDA', LinearDiscriminantAnalysis()),\n",
    "      ('NB' ,GaussianNB(priors=(0.33, 0.33, 0.34))),\n",
    "      ('QDA', QuadraticDiscriminantAnalysis()),\n",
    "      ('KNN where k= 80' ,KNeighborsClassifier(n_neighbors=80)),)\n",
    "\n",
    "\n",
    "\n",
    "\n",
    "####### Testing each base classifier first before traning and evaluating the metaclassfier \n",
    "from sklearn.model_selection import train_test_split\n",
    "from sklearn.metrics import accuracy_score\n",
    "\n",
    "X_train, X_test, y_train, y_test = train_test_split(X, y, test_size=0.33, random_state=42)\n",
    "\n",
    "print(\"3-folded cross validation\")\n",
    "for name, clf in Baseclfs:\n",
    "    #clf.fit(X_train, y_train)\n",
    "    scores = model_selection.cross_val_score(clf, X_train, y_train, cv=3, scoring='accuracy')\n",
    "    print(\"Accuracy: %0.2f (+/- %0.2f)  of base classifier %s\" \n",
    "          % (scores.mean(), scores.std(), name))"
   ]
  },
  {
   "cell_type": "markdown",
   "metadata": {},
   "source": [
    "## Using Modelstacking class\n",
    "\n",
    "- Test using Modelstacking for the full dataset and half of the data set"
   ]
  },
  {
   "cell_type": "code",
   "execution_count": 4,
   "metadata": {},
   "outputs": [
    {
     "name": "stdout",
     "output_type": "stream",
     "text": [
      "     pcost       dcost       gap    pres   dres\n",
      " 0: -7.9923e+01 -8.1077e+01  1e+00  1e-17  1e-02\n",
      " 1: -7.9967e+01 -8.0043e+01  8e-02  1e-16  7e-04\n",
      " 2: -7.9995e+01 -8.0005e+01  1e-02  2e-16  2e-16\n",
      " 3: -7.9999e+01 -8.0001e+01  2e-03  6e-17  2e-16\n",
      " 4: -8.0000e+01 -8.0000e+01  2e-04  1e-16  2e-16\n",
      " 5: -8.0000e+01 -8.0000e+01  3e-05  2e-16  1e-16\n",
      "Optimal solution found.\n",
      "The estimated weights are \n",
      " [ 9.96e-01]\n",
      "[ 2.87e-03]\n",
      "[ 9.22e-04]\n",
      "[ 7.60e-05]\n",
      "[ 6.08e-05]\n",
      "[ 6.51e-05]\n",
      " First element represents baseclf 1, and so on \n",
      " \n",
      "The accuracy of the metaclassifier is 1.0 \n",
      " \n",
      " \n",
      " \n",
      "\n",
      "     pcost       dcost       gap    pres   dres\n",
      " 0: -8.0480e+01 -8.1520e+01  1e+00  5e-17  1e-02\n",
      " 1: -8.0491e+01 -8.0519e+01  3e-02  1e-16  2e-04\n",
      " 2: -8.0499e+01 -8.0501e+01  3e-03  1e-16  3e-06\n",
      " 3: -8.0500e+01 -8.0500e+01  4e-04  8e-17  1e-16\n",
      " 4: -8.0500e+01 -8.0500e+01  6e-05  9e-17  1e-16\n",
      "Optimal solution found.\n",
      "The estimated weights are \n",
      " [ 4.98e-01]\n",
      "[ 4.98e-01]\n",
      "[ 3.23e-03]\n",
      "[ 2.73e-04]\n",
      "[ 4.18e-04]\n",
      "[ 9.24e-05]\n",
      " First element represents baseclf 1, and so on \n",
      " \n",
      "The accuracy of the metaclassifier when using only\u001b[1m half the dataset\u001b[0;0m 1.0\n"
     ]
    }
   ],
   "source": [
    "################   Test code for the  EnsembleClassifier class   ########################                    \n",
    "from sklearn.model_selection import train_test_split\n",
    "\n",
    "\n",
    "X_train, X_test, y_train, y_test = train_test_split(X, y, test_size=0.30, random_state=Random_state)\n",
    "    \n",
    "Model_stacking_clf = ModelStacking(Base_Classifiers = Baseclfs)\n",
    "Model_stacking_clf.fit(X_train, y_train)\n",
    "\n",
    "print('The accuracy of the metaclassifier is {0} \\n \\n \\n \\n'.format(accuracy_score(y_test, Model_stacking_clf.predict(X_test))))\n",
    "\n",
    "\n",
    "\n",
    "\n",
    "#############   Testing when downsizing the dataset to half the size  #####################\n",
    "subSampleIndeces = np.random.choice(len(X), int(len(X)+2/2))  ## len(X)+2/2 is used instead of exactly half size, so that k_neighbours < n_samples \n",
    "X_half = X[subSampleIndeces, :]\n",
    "y_half = y[subSampleIndeces]\n",
    "\n",
    "X_train, X_test, y_train, y_test = train_test_split(X_half, y_half, test_size=0.30, random_state=Random_state)\n",
    "    \n",
    "Model_stacking_clf = ModelStacking(Base_Classifiers = Baseclfs)\n",
    "Model_stacking_clf.fit(X_train, y_train)\n",
    "\n",
    "print('The accuracy of the metaclassifier when using only\\033[1m half the dataset\\033[0;0m {0}'.format(accuracy_score(y_test, Model_stacking_clf.predict(X_test))))\n",
    "\n"
   ]
  },
  {
   "cell_type": "markdown",
   "metadata": {},
   "source": [
    "## Conclusions\n",
    "\n",
    "- The metaclassifier will never perform worse than the best performing base classifier\n",
    "- Model stacking is used to reduce bias/variance in each model and getting a more stable predictions\n",
    "\n",
    "- Less data means higher variance in each base model, hence the weight will be distributed more equally."
   ]
  },
  {
   "cell_type": "markdown",
   "metadata": {},
   "source": [
    "## References\n",
    "\n",
    "[1]  V. Franc, V. Hlav ́aˇc, and M. Navara, “Sequential coordinate-wise algorithmfor the non-negative least squares problem,” inComputer Analysis of Imagesand  Patterns,  A.  Gagalowicz  and  W.  Philips,  Eds.Berlin,  Heidelberg:Springer Berlin Heidelberg, 2005, pp. 407–414"
   ]
  }
 ],
 "metadata": {
  "kernelspec": {
   "display_name": "Python 3",
   "language": "python",
   "name": "python3"
  },
  "language_info": {
   "codemirror_mode": {
    "name": "ipython",
    "version": 3
   },
   "file_extension": ".py",
   "mimetype": "text/x-python",
   "name": "python",
   "nbconvert_exporter": "python",
   "pygments_lexer": "ipython3",
   "version": "3.7.1"
  }
 },
 "nbformat": 4,
 "nbformat_minor": 2
}
